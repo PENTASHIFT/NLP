{
 "cells": [
  {
   "cell_type": "code",
   "execution_count": 1,
   "metadata": {},
   "outputs": [],
   "source": [
    "import re\n",
    "\n",
    "import nltk\n",
    "import numpy as np\n",
    "import pandas as pd\n",
    "import matplotlib.pyplot as plt\n",
    "%matplotlib inline"
   ]
  },
  {
   "cell_type": "code",
   "execution_count": 2,
   "metadata": {},
   "outputs": [
    {
     "data": {
      "text/html": [
       "<div>\n",
       "<style scoped>\n",
       "    .dataframe tbody tr th:only-of-type {\n",
       "        vertical-align: middle;\n",
       "    }\n",
       "\n",
       "    .dataframe tbody tr th {\n",
       "        vertical-align: top;\n",
       "    }\n",
       "\n",
       "    .dataframe thead th {\n",
       "        text-align: right;\n",
       "    }\n",
       "</style>\n",
       "<table border=\"1\" class=\"dataframe\">\n",
       "  <thead>\n",
       "    <tr style=\"text-align: right;\">\n",
       "      <th></th>\n",
       "      <th>Insult</th>\n",
       "      <th>Date</th>\n",
       "      <th>Comment</th>\n",
       "    </tr>\n",
       "  </thead>\n",
       "  <tbody>\n",
       "    <tr>\n",
       "      <th>0</th>\n",
       "      <td>1</td>\n",
       "      <td>20120618192155Z</td>\n",
       "      <td>\"You fuck your dad.\"</td>\n",
       "    </tr>\n",
       "    <tr>\n",
       "      <th>1</th>\n",
       "      <td>0</td>\n",
       "      <td>20120528192215Z</td>\n",
       "      <td>\"i really don't understand your point.\\xa0 It ...</td>\n",
       "    </tr>\n",
       "    <tr>\n",
       "      <th>2</th>\n",
       "      <td>0</td>\n",
       "      <td>NaN</td>\n",
       "      <td>\"A\\\\xc2\\\\xa0majority of Canadians can and has ...</td>\n",
       "    </tr>\n",
       "    <tr>\n",
       "      <th>3</th>\n",
       "      <td>0</td>\n",
       "      <td>NaN</td>\n",
       "      <td>\"listen if you dont wanna get married to a man...</td>\n",
       "    </tr>\n",
       "    <tr>\n",
       "      <th>4</th>\n",
       "      <td>0</td>\n",
       "      <td>20120619094753Z</td>\n",
       "      <td>\"C\\xe1c b\\u1ea1n xu\\u1ed1ng \\u0111\\u01b0\\u1edd...</td>\n",
       "    </tr>\n",
       "  </tbody>\n",
       "</table>\n",
       "</div>"
      ],
      "text/plain": [
       "   Insult             Date                                            Comment\n",
       "0       1  20120618192155Z                               \"You fuck your dad.\"\n",
       "1       0  20120528192215Z  \"i really don't understand your point.\\xa0 It ...\n",
       "2       0              NaN  \"A\\\\xc2\\\\xa0majority of Canadians can and has ...\n",
       "3       0              NaN  \"listen if you dont wanna get married to a man...\n",
       "4       0  20120619094753Z  \"C\\xe1c b\\u1ea1n xu\\u1ed1ng \\u0111\\u01b0\\u1edd..."
      ]
     },
     "execution_count": 2,
     "metadata": {},
     "output_type": "execute_result"
    }
   ],
   "source": [
    "raw_train = pd.read_csv(\"train.csv\")\n",
    "raw_test = pd.read_csv(\"test_with_solutions.csv\", encoding=\"utf-8\")\n",
    "\n",
    "raw_train.head()"
   ]
  },
  {
   "cell_type": "code",
   "execution_count": 3,
   "metadata": {},
   "outputs": [],
   "source": [
    "def drop_noise(sentence):\n",
    "    sentence.strip()\n",
    "    PATTERN = r'[^a-zA-Z0-9 ]'\n",
    "    filtered_sentence = re.sub(PATTERN, r'', sentence)\n",
    "    return filtered_sentence"
   ]
  },
  {
   "cell_type": "code",
   "execution_count": 4,
   "metadata": {},
   "outputs": [],
   "source": [
    "def clean(text, stopword_list):\n",
    "    tokens = nltk.word_tokenize(text)\n",
    "    tokens = [token.strip() for token in tokens]\n",
    "    filtered_tokens = [token for token in tokens if token not in stopword_list]\n",
    "    filtered_text = ' '.join(filtered_tokens)\n",
    "    return filtered_text"
   ]
  },
  {
   "cell_type": "code",
   "execution_count": 5,
   "metadata": {},
   "outputs": [
    {
     "data": {
      "text/plain": [
       "0                                         You fuck dad\n",
       "1    really dont understand pointxa0 It seems mixin...\n",
       "2    Axc2xa0majority Canadians wrong againnnUnless ...\n",
       "3    listen dont wan na get married man women DONT ...\n",
       "4    Cxe1c bu1ea1n xuu1ed1ng u0111u01b0u1eddng biu1...\n",
       "Name: Comment, dtype: object"
      ]
     },
     "execution_count": 5,
     "metadata": {},
     "output_type": "execute_result"
    }
   ],
   "source": [
    "train = raw_train.copy()\n",
    "test = raw_test.copy()\n",
    "\n",
    "stopword_list = nltk.corpus.stopwords.words('english')\n",
    "\n",
    "train_data = train['Comment'].apply(drop_noise)\n",
    "train_data = train_data.apply(lambda x: clean(x, stopword_list))\n",
    "\n",
    "test_data = test['Comment'].apply(drop_noise)\n",
    "test_data = test_data.apply(lambda x: clean(x, stopword_list))\n",
    "\n",
    "train_data.head()"
   ]
  },
  {
   "cell_type": "code",
   "execution_count": 6,
   "metadata": {},
   "outputs": [],
   "source": [
    "def ohfunc(classno):\n",
    "    oh = [0, 0]\n",
    "    oh[classno] = 1\n",
    "    return np.array(oh)\n",
    "train_labels = np.array(train[\"Insult\"].apply(ohfunc).tolist())\n",
    "test_labels = np.array(test[\"Insult\"].apply(ohfunc).tolist())\n",
    "#test_labels = np.reshape(test_labels, newshape=(len(test_data), 2))\n",
    "#train_labels = np.reshape(train_labels, newshape=(len(train_data), 2))"
   ]
  },
  {
   "cell_type": "code",
   "execution_count": 7,
   "metadata": {},
   "outputs": [
    {
     "name": "stdout",
     "output_type": "stream",
     "text": [
      "Unique glyphs: 63\n",
      "Counter({' ': 72408, 'e': 46805, 'a': 30972, 'n': 29633, 't': 28815, 'o': 27426, 'i': 27304, 's': 26140, 'r': 23359, 'l': 20627, 'd': 14890, 'c': 14015, 'u': 13274, 'h': 12033, 'g': 11432, 'm': 10620, 'p': 9743, 'y': 8611, 'k': 6567, 'b': 6365, 'w': 5889, 'f': 5858, 'x': 4687, 'v': 4130, 'I': 3784, '0': 3617, 'T': 2805, 'A': 2783, 'S': 2329, 'O': 2202, 'E': 2153, 'N': 1826, 'H': 1705, '2': 1689, 'Y': 1600, 'R': 1556, 'L': 1540, 'C': 1412, 'W': 1379, 'D': 1345, '1': 1344, 'M': 1299, 'B': 1148, 'U': 1088, 'P': 1040, 'G': 1018, 'F': 902, '9': 736, 'j': 612, 'z': 591, '3': 577, 'K': 573, '8': 529, 'J': 440, '4': 420, 'q': 419, '6': 380, '5': 372, 'V': 279, '7': 261, 'Z': 109, 'X': 79, 'Q': 77})\n"
     ]
    }
   ],
   "source": [
    "# Character Encoding.\n",
    "from collections import Counter\n",
    "from keras.preprocessing.text import Tokenizer\n",
    "from keras.preprocessing.sequence import pad_sequences\n",
    "\n",
    "unique_glyphs = Counter()\n",
    "for _, comment in train_data.iteritems():\n",
    "    unique_glyphs.update(comment)\n",
    "    \n",
    "print(\"Unique glyphs:\", len(unique_glyphs))\n",
    "print(unique_glyphs)\n",
    "\n",
    "tokenizer = Tokenizer(\n",
    "    char_level=True,\n",
    "    filters=None,\n",
    "    lower=False,\n",
    "    num_words=len(unique_glyphs)\n",
    ")\n",
    "\n",
    "#train_data.apply(lambda x: len(x)).describe()\n",
    "\n",
    "tokenizer.fit_on_texts(test_data)\n",
    "sequences = tokenizer.texts_to_sequences(test_data)\n",
    "test_data = pad_sequences(sequences, maxlen=130)\n",
    "\n",
    "tokenizer.fit_on_texts(train_data)\n",
    "sequences = tokenizer.texts_to_sequences(train_data)\n",
    "train_data = pad_sequences(sequences, maxlen=130)\n"
   ]
  },
  {
   "cell_type": "code",
   "execution_count": 8,
   "metadata": {},
   "outputs": [],
   "source": [
    "from keras import metrics\n",
    "from keras.layers import *\n",
    "from keras.optimizers import *\n",
    "from keras.models import Sequential"
   ]
  },
  {
   "cell_type": "code",
   "execution_count": 9,
   "metadata": {},
   "outputs": [],
   "source": [
    "# Building the model\n",
    "EPOCHS = 15\n",
    "model = Sequential()\n",
    "model.add(Embedding(len(unique_glyphs) + 1, 300, input_length=130))\n",
    "model.add(LSTM(300))\n",
    "model.add(Dropout(0.5))\n",
    "model.add(Dense(120, activation='tanh'))\n",
    "model.add(Dropout(0.5))\n",
    "model.add(Dense(2))\n",
    "model.add(Activation('softmax'))\n",
    "adam_op = Adam(lr=0.004)\n",
    "model.compile(loss='categorical_crossentropy', optimizer=adam_op,\n",
    "             metrics=[metrics.categorical_accuracy])"
   ]
  },
  {
   "cell_type": "code",
   "execution_count": 10,
   "metadata": {},
   "outputs": [
    {
     "name": "stdout",
     "output_type": "stream",
     "text": [
      "Epoch 1/15\n",
      "20/20 [==============================] - 28s 1s/step - loss: 0.7840 - categorical_accuracy: 0.6981 - val_loss: 0.5699 - val_categorical_accuracy: 0.7427\n",
      "Epoch 2/15\n",
      "20/20 [==============================] - 23s 1s/step - loss: 0.5680 - categorical_accuracy: 0.7330 - val_loss: 0.5752 - val_categorical_accuracy: 0.7499\n",
      "Epoch 3/15\n",
      "20/20 [==============================] - 29s 1s/step - loss: 0.5492 - categorical_accuracy: 0.7498 - val_loss: 0.5978 - val_categorical_accuracy: 0.7469\n",
      "Epoch 4/15\n",
      "20/20 [==============================] - 31s 2s/step - loss: 0.5484 - categorical_accuracy: 0.7520 - val_loss: 0.5542 - val_categorical_accuracy: 0.7499\n",
      "Epoch 5/15\n",
      "20/20 [==============================] - 30s 2s/step - loss: 0.5342 - categorical_accuracy: 0.7472 - val_loss: 0.5540 - val_categorical_accuracy: 0.7473\n",
      "Epoch 6/15\n",
      "20/20 [==============================] - 29s 1s/step - loss: 0.5342 - categorical_accuracy: 0.7569 - val_loss: 0.5681 - val_categorical_accuracy: 0.7465\n",
      "Epoch 7/15\n",
      "20/20 [==============================] - 30s 2s/step - loss: 0.5304 - categorical_accuracy: 0.7577 - val_loss: 0.5544 - val_categorical_accuracy: 0.7484\n",
      "Epoch 8/15\n",
      "20/20 [==============================] - 28s 1s/step - loss: 0.5178 - categorical_accuracy: 0.7680 - val_loss: 0.5763 - val_categorical_accuracy: 0.7348\n",
      "Epoch 9/15\n",
      "20/20 [==============================] - 28s 1s/step - loss: 0.5230 - categorical_accuracy: 0.7620 - val_loss: 0.5799 - val_categorical_accuracy: 0.7408\n",
      "Epoch 10/15\n",
      "20/20 [==============================] - 28s 1s/step - loss: 0.4840 - categorical_accuracy: 0.7869 - val_loss: 0.6221 - val_categorical_accuracy: 0.7586\n",
      "Epoch 11/15\n",
      "20/20 [==============================] - 27s 1s/step - loss: 0.4978 - categorical_accuracy: 0.7754 - val_loss: 0.5696 - val_categorical_accuracy: 0.7503\n",
      "Epoch 12/15\n",
      "20/20 [==============================] - 27s 1s/step - loss: 0.4686 - categorical_accuracy: 0.7935 - val_loss: 0.5871 - val_categorical_accuracy: 0.7265\n",
      "Epoch 13/15\n",
      "20/20 [==============================] - 28s 1s/step - loss: 0.5235 - categorical_accuracy: 0.7660 - val_loss: 0.5629 - val_categorical_accuracy: 0.7560\n",
      "Epoch 14/15\n",
      "20/20 [==============================] - 27s 1s/step - loss: 0.4734 - categorical_accuracy: 0.7903 - val_loss: 0.5832 - val_categorical_accuracy: 0.7329\n",
      "Epoch 15/15\n",
      "20/20 [==============================] - 26s 1s/step - loss: 0.4465 - categorical_accuracy: 0.8083 - val_loss: 0.5903 - val_categorical_accuracy: 0.7473\n"
     ]
    }
   ],
   "source": [
    "history = model.fit(train_data, train_labels, \n",
    "                    batch_size=206, epochs=EPOCHS, verbose=1, \n",
    "                    validation_data=(test_data, test_labels))\n"
   ]
  },
  {
   "cell_type": "code",
   "execution_count": 11,
   "metadata": {},
   "outputs": [
    {
     "name": "stdout",
     "output_type": "stream",
     "text": [
      "83/83 [==============================] - 10s 117ms/step - loss: 0.5903 - categorical_accuracy: 0.7473\n",
      "0.7472610473632812\n"
     ]
    },
    {
     "data": {
      "image/png": "[encoded data removed]",
      "text/plain": [
       "<Figure size 432x288 with 1 Axes>"
      ]
     },
     "metadata": {
      "needs_background": "light"
     },
     "output_type": "display_data"
    }
   ],
   "source": [
    "# Scoring and plotting model statistics.\n",
    "score = model.evaluate(test_data, test_labels)\n",
    "print(score[1])\n",
    "\n",
    "loss_train = history.history['loss']\n",
    "loss_val = history.history['val_loss']\n",
    "epochs = range(1, EPOCHS + 1)\n",
    "plt.plot(epochs, loss_train, 'r--', label=\"Training Loss\")\n",
    "plt.plot(epochs, loss_val, 'b-', label=\"Validation Loss\")\n",
    "plt.title(\"Training and Validation loss\")\n",
    "plt.xlabel(\"Epochs\")\n",
    "plt.ylabel(\"Loss\")\n",
    "plt.legend()\n",
    "plt.show()"
   ]
  },
  {
   "cell_type": "code",
   "execution_count": null,
   "metadata": {},
   "outputs": [],
   "source": []
  }
 ],
 "metadata": {
  "kernelspec": {
   "display_name": "Python 3",
   "language": "python",
   "name": "python3"
  },
  "language_info": {
   "codemirror_mode": {
    "name": "ipython",
    "version": 3
   },
   "file_extension": ".py",
   "mimetype": "text/x-python",
   "name": "python",
   "nbconvert_exporter": "python",
   "pygments_lexer": "ipython3",
   "version": "3.7.3"
  }
 },
 "nbformat": 4,
 "nbformat_minor": 4
}
